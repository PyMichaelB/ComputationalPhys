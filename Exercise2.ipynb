{
  "nbformat": 4,
  "nbformat_minor": 0,
  "metadata": {
    "colab": {
      "name": "Exercise2.ipynb",
      "provenance": [],
      "collapsed_sections": []
    },
    "kernelspec": {
      "name": "python3",
      "display_name": "Python 3"
    }
  },
  "cells": [
    {
      "cell_type": "markdown",
      "metadata": {
        "id": "GW7boepaBwe7"
      },
      "source": [
        "# Exercise 2: Integration\r\n",
        "\r\n",
        "\r\n",
        "\r\n",
        "\r\n"
      ]
    },
    {
      "cell_type": "markdown",
      "metadata": {
        "id": "H9E7hgLg9tOk"
      },
      "source": [
        "## Preliminary code"
      ]
    },
    {
      "cell_type": "code",
      "metadata": {
        "id": "wSytNdah9scb"
      },
      "source": [
        "import numpy as np\r\n",
        "import matplotlib.pyplot as plt\r\n",
        "from scipy.integrate import quad\r\n",
        "\r\n",
        "# Integrands for the second half of this exercise\r\n",
        "def integrand_cos(x):\r\n",
        "  return np.cos(np.pi*(x**2)/2)\r\n",
        "\r\n",
        "def integrand_sin(x):\r\n",
        "  return np.sin(np.pi*(x**2)/2)"
      ],
      "execution_count": null,
      "outputs": []
    },
    {
      "cell_type": "markdown",
      "metadata": {
        "id": "oE2qr5u4dzTm"
      },
      "source": [
        "# Core task 1\r\n",
        "\r\n",
        "For this task we want to do monte-carlo integration for a given integrand and we will make this task non-vectorised so that in supplementary task 1 we can compare it to a vectorised version.\r\n",
        "\r\n",
        "\r\n",
        "\r\n"
      ]
    },
    {
      "cell_type": "code",
      "metadata": {
        "id": "CXEZwlofZMbP"
      },
      "source": [
        "s = np.pi/8\r\n",
        "error_samples = 25\r\n",
        "\r\n",
        "def our_function(sample):\r\n",
        "    # Sample is an 8-dimensional array and we evaluate the sin function\r\n",
        "    sum = 0.0\r\n",
        "    for item in sample:\r\n",
        "      sum += item\r\n",
        "    return 10**6 * np.sin(sum)\r\n",
        "\r\n",
        "\"\"\"\r\n",
        "  This is the NON-VECTORISED VERSION.\r\n",
        "\r\n",
        "  1) prediction(num_samples) returns an estimate of the integral for a \r\n",
        "  given N samples. Also gives the mean value of f and mean square value of f \r\n",
        "  which is the mean value of the integrand and the mean value of the integrand \r\n",
        "  squared respectively\r\n",
        "\r\n",
        "  2) average_and_stdDev_of_predictions(num_samples) returns the mean and\r\n",
        "  standard deviation from estimates produced several times.\r\n",
        "\r\n",
        "  3) plotting_error(start, end, number) plots the standard deviation for a\r\n",
        "  range of N and computes and plots the expected errors.\r\n",
        "\"\"\"\r\n",
        "\r\n",
        "def prediction(num_samples):\r\n",
        "  # For a given N, calculate the integral estimate\r\n",
        "  mean_f = 0.0 # The mean value of the function\r\n",
        "  mean_f_squared = 0.0 # The mean value of the function squared\r\n",
        "\r\n",
        "  for i in range (0, num_samples):\r\n",
        "    arr = np.random.rand(8)*s # Generate a point in 8D space\r\n",
        "    mean_f += our_function(arr)/num_samples\r\n",
        "    mean_f_squared += (our_function(arr)**2)/num_samples\r\n",
        "  \r\n",
        "  return mean_f * (s**8), mean_f, mean_f_squared\r\n",
        "\r\n",
        "def average_and_stdDev_of_predictions(num_samples):\r\n",
        "  # For a given N, calculate the integral estimate multiple times and find the standard dev\r\n",
        "  repeats = np.zeros((error_samples))\r\n",
        "\r\n",
        "  for n in range(0, error_samples):\r\n",
        "    repeats[n] = prediction(num_samples)[0]\r\n",
        "\r\n",
        "  # Code the calculate the mean and standard deviation\r\n",
        "  sum_of_repeats = 0.0\r\n",
        "  sum_of_repeats_squared = 0.0\r\n",
        "\r\n",
        "  for estimate in repeats:\r\n",
        "    sum_of_repeats += estimate\r\n",
        "  mean = sum_of_repeats/len(repeats)\r\n",
        "\r\n",
        "  for estimate in repeats:\r\n",
        "    sum_of_repeats_squared += (estimate - mean)**2\r\n",
        "  standard_deviation = np.sqrt(sum_of_repeats_squared/len(repeats))\r\n",
        "\r\n",
        "  return mean, standard_deviation\r\n",
        "\r\n",
        "def plotting_error(start, end, number):\r\n",
        "  # For a range of N, calculate the integral estimate multiple times and find the standard dev\r\n",
        "  n = np.linspace(start, end, number)\r\n",
        "  y = np.zeros((len(n)))\r\n",
        "  z = np.zeros((len(n)))\r\n",
        "\r\n",
        "  for (i, N) in enumerate(n):\r\n",
        "    # Calculating standard deviations \r\n",
        "    y[i] = average_and_stdDev_of_predictions(int(N))[1]\r\n",
        "\r\n",
        "    # Expected error comparison\r\n",
        "    estimate, mean_f, mean_f_squared = prediction(int(N))\r\n",
        "    # Calculating the expected error from the formula\r\n",
        "    expected_error = (s**8) * np.sqrt(np.absolute((mean_f_squared - (mean_f)**2))/N)\r\n",
        "    z[i] = expected_error\r\n",
        "\r\n",
        "  # Plotting results to check that we see an improvement in accuracy with N\r\n",
        "  plt.plot(n, y, label='Actual error')\r\n",
        "  plt.plot(n, z, label='Expected error')\r\n",
        "\r\n",
        "  plt.ylabel('Standard deviation')\r\n",
        "  plt.xlabel('Number of samples, N')\r\n",
        "\r\n",
        "  plt.legend()\r\n",
        "  plt.show()\r\n",
        "\r\n",
        "%timeit print(average_and_stdDev_of_predictions(200000)) # This makes a prediction for N = 200,000\r\n",
        "plotting_error(10, 1000, 10) # Shows the error for various values of N vs what the formula would give"
      ],
      "execution_count": null,
      "outputs": []
    },
    {
      "cell_type": "markdown",
      "metadata": {
        "id": "wX3f4fRl-DH4"
      },
      "source": [
        "## Conclusions for core task 1\r\n",
        "\r\n",
        "Largest value of N tested to compute in about 1 minute:\r\n",
        "\r\n",
        "1.   N = 200,000\r\n",
        "2. T = 1min 6s\r\n",
        "3. Integral = 537.19 +- 0.08\r\n",
        "4. About 0.016% accuracy\r\n",
        "\r\n",
        "Have managed to produce an integral estimate using the Monte Carlo integration method. The plot below shows the actual error vs expected error and it usually agrees quite well. However we have seen that the actual error tends to diverge from the expected error at low N values.\r\n",
        "\r\n",
        "![](https://drive.google.com/uc?export=view&id=1RBMFnZLkeu4RJEWJQakw93cS78e_3pwB)\r\n"
      ]
    },
    {
      "cell_type": "markdown",
      "metadata": {
        "id": "HasmlAEKkFpH"
      },
      "source": [
        "# Supplementary task 1\r\n",
        "\r\n",
        "This version of the code was written to attempt to speed up the original code from core task 1. \r\n"
      ]
    },
    {
      "cell_type": "code",
      "metadata": {
        "id": "PWq6_dU5kEBZ"
      },
      "source": [
        "s = np.pi/8\r\n",
        "error_samples = 25\r\n",
        "\r\n",
        "def our_function(sample):\r\n",
        "    # Sample is a matrix and we evaluate the sin function after summing each row\r\n",
        "    return 10**6 * np.sin(np.sum(sample, axis=1))\r\n",
        "\r\n",
        "\"\"\" \r\n",
        "  This is the VECTORISED VERSION.\r\n",
        "  \r\n",
        "  1) prediction(num_samples) returns an estimate of the integral for a \r\n",
        "  given N samples. Also gives the mean value of f and mean square value of f \r\n",
        "  which is the mean value of the integrand and the mean value of the integrand \r\n",
        "  squared respectively\r\n",
        "\r\n",
        "  2) average_and_stdDev_of_predictions(num_samples) returns the mean and\r\n",
        "  standard deviation from estimates produced several times.\r\n",
        "\r\n",
        "  3) plotting_error(start, end, number) plots the standard deviation for a\r\n",
        "  range of N and computes and plots the expected errors.\r\n",
        "\"\"\"\r\n",
        "\r\n",
        "def prediction(num_samples):\r\n",
        "  # For a given N, calculate the integral estimate\r\n",
        "  mean_f = 0.0\r\n",
        "  mean_f_squared = 0.0\r\n",
        "\r\n",
        "  # We generate a matrix of random numbers. Each row represents a specific sample.\r\n",
        "  # Hence to find the mean value of the function we evaluate the function on each row\r\n",
        "  # to give an array of length num_samples and then take the average over this\r\n",
        "  samples_array = np.random.rand(num_samples, 8)*s\r\n",
        "  mean_f = np.mean(our_function(samples_array))\r\n",
        "  mean_f_squared = np.mean(our_function(samples_array)**2)\r\n",
        "  \r\n",
        "  return mean_f * (s**8), mean_f, mean_f_squared\r\n",
        "\r\n",
        "def average_and_stdDev_of_predictions(num_samples):\r\n",
        "  # For a given N, calculate the integral estimate multiple times and find the standard dev\r\n",
        "  repeats = np.zeros((error_samples))\r\n",
        "\r\n",
        "  for n in range(0, error_samples):\r\n",
        "    repeats[n] = prediction(num_samples)[0]\r\n",
        "\r\n",
        "  # Code to calculate mean and standard deviation\r\n",
        "  mean = np.mean(repeats)\r\n",
        "  standard_deviation = np.std(repeats)\r\n",
        "\r\n",
        "  return mean, standard_deviation\r\n",
        "\r\n",
        "def plotting_error(start, end, number):\r\n",
        "  # For a range of N, calculate the integral estimate multiple times and find the standard dev\r\n",
        "  n = np.linspace(start, end, number)\r\n",
        "  y = np.zeros((len(n)))\r\n",
        "  z = np.zeros((len(n)))\r\n",
        "\r\n",
        "  for (i, N) in enumerate(n):\r\n",
        "    # Calculating standard deviations \r\n",
        "    y[i] = average_and_stdDev_of_predictions(int(N))[1]\r\n",
        "\r\n",
        "    # Expected error comparison\r\n",
        "    estimate, mean_f, mean_f_squared = prediction(int(N))\r\n",
        "    # Calculating the expected error from the formula\r\n",
        "    expected_error = (s**8) * np.sqrt(np.absolute((mean_f_squared - (mean_f)**2))/N)\r\n",
        "    z[i] = expected_error\r\n",
        "\r\n",
        "  # Plotting results to check that we see an improvement in accuracy with N\r\n",
        "  plt.plot(n, y, label='Actual error')\r\n",
        "  plt.plot(n, z, label='Expected error')\r\n",
        "\r\n",
        "  plt.ylabel('Standard deviation')\r\n",
        "  plt.xlabel('Number of samples, N')\r\n",
        "\r\n",
        "  plt.legend()\r\n",
        "  plt.show()\r\n",
        "\r\n",
        "%timeit average_and_stdDev_of_predictions(200000)\r\n",
        "plotting_error(10, 1000, 10)"
      ],
      "execution_count": null,
      "outputs": []
    },
    {
      "cell_type": "markdown",
      "metadata": {
        "id": "FCnafHNj-4bP"
      },
      "source": [
        "## Conclusions for supplementary task 1\r\n",
        "\r\n",
        "This is far faster and we can see the comparison below:\r\n",
        "\r\n",
        "1.   N = 200,000\r\n",
        "2. T = 944ms\r\n",
        "3. Integral = 537.19 +- 0.08\r\n",
        "4. About 0.016% accuracy\r\n"
      ]
    },
    {
      "cell_type": "markdown",
      "metadata": {
        "id": "eYWkSdZof8Hb"
      },
      "source": [
        "# Core task 2: \r\n",
        "\r\n",
        "This task is to estimate the Fresnel integrals using a scipy quadrature method. We will then plot the classic spiral."
      ]
    },
    {
      "cell_type": "code",
      "metadata": {
        "id": "s3Nff0csf7zD"
      },
      "source": [
        "\"\"\"\r\n",
        "Code to use the scipy quad function which integrates by a quadrature method. \r\n",
        "Produces a set of the evaluated Fresnel integrals for a range of u values and \r\n",
        "then plots them to see the Fresnel spiral.\r\n",
        "\"\"\"\r\n",
        "\r\n",
        "# Creating a set of u values (the limits on the integrals)\r\n",
        "u  = np.arange(-10, 10, 0.01, dtype=float)\r\n",
        "\r\n",
        "# Creating our numpy array of 'x' and 'y' values\r\n",
        "pointsC = np.zeros(shape=(len(u)))\r\n",
        "pointsS = np.zeros(shape=(len(u)))\r\n",
        "\r\n",
        "# Computing integrals for each value of u\r\n",
        "for (i, U) in enumerate(u):\r\n",
        "  pointsC[i] = quad(integrand_cos, 0, U)[0]\r\n",
        "  pointsS[i] = quad(integrand_sin, 0, U)[0]\r\n",
        "\r\n",
        "# Plotting the spiral using matplotlib\r\n",
        "plt.plot(pointsC, pointsS)\r\n",
        "plt.xlabel('C integral')\r\n",
        "plt.ylabel('S integral')\r\n",
        "plt.show()"
      ],
      "execution_count": null,
      "outputs": []
    },
    {
      "cell_type": "markdown",
      "metadata": {
        "id": "LKzSkrnY-iW7"
      },
      "source": [
        "## Conclusions for core task 2\r\n",
        "\r\n",
        "We have managed to produce the Fresnel integrals using the scipy integrator \"quad\" which is a quadrature technique. They have been plotted as the usual spiral. It tends to 0.5+i0.5 at large u (moving along the curve) as expected.\r\n",
        "\r\n",
        "![](https://drive.google.com/uc?export=view&id=1q0FmHDn40UPm_NK7ciAWSDP1VyEGdhnT)"
      ]
    },
    {
      "cell_type": "markdown",
      "metadata": {
        "id": "t0H7ChV6rr81"
      },
      "source": [
        "# Supplementary task 2\r\n",
        "\r\n",
        "In this task we try to plot the diffraction pattern using the Fresnel integrals. \r\n",
        "\r\n",
        "The on axis wave amplitude will be proportional to the integral of the Fresnel integrals. The location on the screen determines the limits on the integrals. We align the centre of the slit on Y = 0 such that the position on axis has limits w1 = -(d/2)*sqrt(2/lambda*D) to w2 = (d/2)*sqrt(2/lambda*D). A position Y on the screen has limits w1 = (Y-d/2)*sqrt(2/lambda*D) to w2 = (Y+d/2)*sqrt(2/lambda*D). "
      ]
    },
    {
      "cell_type": "code",
      "metadata": {
        "id": "22LEZ2dWtNXQ"
      },
      "source": [
        "\"\"\" \r\n",
        "Code to calculate the Fresnel integrals for a range of positions on a screen.\r\n",
        "Appropriate scaling was done to ensure the integral limits were correct.\r\n",
        "This allows us to calculate the intensity of the diffraction pattern and plot it.\r\n",
        "The distance to the screen D, wavelength L, and slit width d can be varied below.\r\n",
        "\"\"\"\r\n",
        "\r\n",
        "D = 100.0\r\n",
        "L = 1.0\r\n",
        "d = 10.0\r\n",
        "\r\n",
        "# Set up positions on the screen, all measurements in cm\r\n",
        "y = np.linspace(-50, 50, 200)\r\n",
        "intensity = np.zeros(shape=(len(y)))\r\n",
        "phase = np.zeros(shape=(len(y)))\r\n",
        "\r\n",
        "for (i, Y) in enumerate(y):\r\n",
        "  # Limits for fresnel integrals\r\n",
        "  w1 = (Y-d/2)*(np.sqrt(2/(L*D)))\r\n",
        "  w2 = (Y+d/2)*(np.sqrt(2/(L*D)))\r\n",
        "\r\n",
        "  int_sin = quad(integrand_sin, w1, w2)[0]\r\n",
        "  int_cos = quad(integrand_cos, w1, w2)[0]\r\n",
        "\r\n",
        "  intensity[i] = (int_sin)**2 + (int_cos)**2\r\n",
        "  phase[i] = np.arctan2(int_cos, int_sin)\r\n",
        "\r\n",
        "# Plotting intensity\r\n",
        "plt.subplot(1, 2, 2)\r\n",
        "plt.plot(y, intensity)\r\n",
        "plt.xlabel('Position on screen in cm')\r\n",
        "plt.ylabel('Intensity in arbitrary units')\r\n",
        "\r\n",
        "# Plotting phase\r\n",
        "plt.subplot(1, 2, 1)\r\n",
        "plt.plot(y, phase)\r\n",
        "plt.xlabel('Position on screen in cm')\r\n",
        "plt.ylabel('Phase in radians')\r\n",
        "\r\n",
        "plt.tight_layout()\r\n",
        "plt.show()"
      ],
      "execution_count": null,
      "outputs": []
    },
    {
      "cell_type": "markdown",
      "metadata": {
        "id": "yjoqk7OTtQSm"
      },
      "source": [
        "## Conclusions for supplementary task 2\r\n",
        "\r\n",
        "We see what we expect from studies of the Fresnel diffraction patterns. The relative phase seems to make sense too.\r\n",
        "\r\n",
        "These plots show the intensity and phase for D = 30, 50, and 100cm (in that order)\r\n",
        "\r\n",
        "![](https://drive.google.com/uc?export=view&id=13uqNrfzk4TBOpELuizNTnmQLYn2ZYQdJ)\r\n",
        "\r\n",
        "![](https://drive.google.com/uc?export=view&id=1bo9hJJk_7gfc6_HnsOmy4aYVNfU5zPY7)\r\n",
        "\r\n",
        "![](https://drive.google.com/uc?export=view&id=1Y85NLbrhyoBO3biylOcDMtHmh_p4LK4z)\r\n",
        "\r\n",
        "We can see in the last plot we have emerged towards the Fraunhofer limit."
      ]
    }
  ]
}