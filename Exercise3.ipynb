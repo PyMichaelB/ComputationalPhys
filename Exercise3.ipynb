{
  "nbformat": 4,
  "nbformat_minor": 0,
  "metadata": {
    "colab": {
      "name": "Exercise3.ipynb",
      "provenance": [],
      "collapsed_sections": [],
      "authorship_tag": "ABX9TyO/pMSZdoeC1989a/UD5Kcn",
      "include_colab_link": true
    },
    "kernelspec": {
      "name": "python3",
      "display_name": "Python 3"
    }
  },
  "cells": [
    {
      "cell_type": "markdown",
      "metadata": {
        "id": "view-in-github",
        "colab_type": "text"
      },
      "source": [
        "<a href=\"https://colab.research.google.com/github/michael18781/ComputationalPhys/blob/main/Exercise3.ipynb\" target=\"_parent\"><img src=\"https://colab.research.google.com/assets/colab-badge.svg\" alt=\"Open In Colab\"/></a>"
      ]
    },
    {
      "cell_type": "markdown",
      "metadata": {
        "id": "x3Vqb5p8QQUT"
      },
      "source": [
        "# Exercise 3A: Helmholtz coils\r\n",
        "\r\n",
        "Write a program to calculate the magnetic field caused by Helmholtz coils. Check your solution agrees\r\n",
        "with the on‑axis analytical result. Investigate with suitable plots the uniformity of the field near the\r\n",
        "centre of the system.\r\n",
        "\r\n",
        "We have set the current always to be 1/mu_0 so that the Biot-Savart law becomes dB = (dl cross r)/(4pi r^3). Then to adjust for a different we just scale the B field as appropriate."
      ]
    },
    {
      "cell_type": "markdown",
      "metadata": {
        "id": "0iza1i28RHQo"
      },
      "source": [
        "## Preliminary code"
      ]
    },
    {
      "cell_type": "code",
      "metadata": {
        "id": "h280ig7vRJ9s"
      },
      "source": [
        "import numpy as np\r\n",
        "import scipy\r\n",
        "import matplotlib.pyplot as plt\r\n",
        "import math\r\n",
        "\r\n",
        "R = 1.0\r\n",
        "z = 0.0\r\n",
        "\r\n",
        "def compute_dB(dl, position, x, y):\r\n",
        "  \"\"\" \r\n",
        "  This code computes the contribution to the magnetic field (over a whole meshgrid) \r\n",
        "  due to a current element of length, dl and location, position. This is using\r\n",
        "  the Biot-Savart law.\r\n",
        "  \"\"\" \r\n",
        "  norm = np.sqrt((position[0] - x)**2 + (position[1] - y)**2 + (position[2] - z)**2)\r\n",
        "  scaling = 1 / norm**3 * 1/(4*np.pi)\r\n",
        "\r\n",
        "  dBx = (dl[1]*(position[2]-z)-dl[2]*(position[1]-y)) * scaling\r\n",
        "  dBy = (dl[2]*(position[0]-x)-dl[0]*(position[2]-z)) * scaling\r\n",
        "  return dBx, dBy\r\n",
        "\r\n",
        "def compute_field(elements, x_max, y_max, nx, ny):\r\n",
        "  \"\"\"\r\n",
        "  This piece of code will take in the meshgrid size and dimensions. Then\r\n",
        "  it will loop over all the current elements and sum up their contributions giving\r\n",
        "  the overall magnetic field. It will produce the field in 2D.\r\n",
        "  \"\"\"\r\n",
        "  x = np.linspace(-x_max, x_max, nx)\r\n",
        "  y = np.linspace(-y_max, y_max, ny)\r\n",
        "  X, Y = np.meshgrid(x, y)\r\n",
        "\r\n",
        "  Bx, By = np.zeros((ny, nx)), np.zeros((ny, nx))\r\n",
        "\r\n",
        "  for element in elements:\r\n",
        "    dBx, dBy = compute_dB(element[0], element[1], X, Y)\r\n",
        "    Bx += dBx\r\n",
        "    By += dBy\r\n",
        "\r\n",
        "  # We return the linspaces and the magnetic field\r\n",
        "  return x, y, Bx, By\r\n",
        "\r\n",
        "def plot_streamlines(elements, x_max, y_max, nx, ny):\r\n",
        "  \"\"\"\r\n",
        "  For a given set of current elements and size and dimensions of a grid, this \r\n",
        "  code will plot the magnetic field in the x-y plane in the form of streamlines.\r\n",
        "  The brighter yellow the lines are, the stronger the magnetic field\r\n",
        "  \"\"\"\r\n",
        "  x, y, Bx, By = compute_field(elements, x_max, y_max, nx, ny)\r\n",
        "\r\n",
        "  fig = plt.figure(figsize=(8, 6))\r\n",
        "  ax = fig.add_subplot(111)\r\n",
        "\r\n",
        "  color = 2 * np.log(np.hypot(Bx, By)) # Colour depends on field strength\r\n",
        "  # Plot the streamlines\r\n",
        "  ax.streamplot(x, y, Bx, By, color=color, linewidth=1, cmap=plt.cm.hot, density=2, arrowstyle='->', arrowsize=1.5)\r\n",
        "\r\n",
        "  # Plotting settings\r\n",
        "  ax.set_xlabel('x')\r\n",
        "  ax.set_ylabel('y')\r\n",
        "  ax.set_xlim(-x_max, x_max)\r\n",
        "  ax.set_ylim(-y_max, y_max)\r\n",
        "  ax.set_aspect('equal')\r\n",
        "  plt.show()"
      ],
      "execution_count": 2,
      "outputs": []
    },
    {
      "cell_type": "markdown",
      "metadata": {
        "id": "nbe8ZB1ARMdu"
      },
      "source": [
        " Core task 1\r\n",
        "\r\n",
        "This task is to calculate the magnetic field from a single coil of radius R = 1.0 and carrying a current 1/mu_0 centred on the origin. The code will produce a 2D plot of the magnetic field in the x, y plane. "
      ]
    },
    {
      "cell_type": "code",
      "metadata": {
        "id": "v67MvxT7ItFK"
      },
      "source": [
        "def add_elements():\r\n",
        "  elements = []\r\n",
        "  n = 100\r\n",
        "  for i in range(n):\r\n",
        "      elements.append(( np.array([0, -((2*np.pi*R)/n)*np.sin(2*np.pi*i/n), ((2*np.pi*R)/n)*np.cos(2*np.pi*i/n)]),\r\n",
        "                        np.array([0, R*np.cos(2*np.pi*i/n), R*np.sin(2*np.pi*i/n)]) ))\r\n",
        "  return elements\r\n",
        "\r\n",
        "def plot_magnitude_against_x(x_max, y_max, nx, ny):\r\n",
        "  \"\"\"\r\n",
        "  This function aims to plot the magnitude of the magnetic field along the x axis.\r\n",
        "  It will take limits for the axis and then number of points along which to compute the \r\n",
        "  field. It will produce the same size and dimensions in the y direction. Then,\r\n",
        "  it will compute the field and plot the magnitude of the field and the expected \r\n",
        "  field against x. It will plot the difference between the magnitude and the expected \r\n",
        "  field.\r\n",
        "  \"\"\"\r\n",
        "  x, y, Bx, By = compute_field(add_elements(), x_max, y_max, nx, ny)\r\n",
        "\r\n",
        "  magnitude = np.hypot(Bx, By)\r\n",
        "\r\n",
        "  # We take all the points \"half way up\" the y-axis i.e. those along the x-axis\r\n",
        "  magnitude_along_x = magnitude[:][int(ny/2)] \r\n",
        "\r\n",
        "  pred = R**2/(2*np.sqrt(x**2+R**2)**3) # The prediction based on theory\r\n",
        "\r\n",
        "  fig, (ax1, ax2) = plt.subplots(2, 1, sharex=True, figsize=(8, 12))\r\n",
        "\r\n",
        "  # Plotting absolute values of prediction and computation\r\n",
        "  ax1.plot(x, magnitude_along_x, label='Computation')\r\n",
        "  ax1.plot(x, pred, label='Theoretical prediction')\r\n",
        "\r\n",
        "  # Plotting difference between prediction and computation\r\n",
        "  ax2.plot(x, magnitude_along_x-pred, label='Difference in magnitude')\r\n",
        "\r\n",
        "  ax1.legend()\r\n",
        "  ax2.legend()\r\n",
        "\r\n",
        "  ax1.set_xlabel('x')\r\n",
        "  ax1.set_ylabel('Magnetic field / T')\r\n",
        "  ax2.set_xlabel('x')\r\n",
        "  ax2.set_ylabel('Difference between computation and prediction / T')\r\n",
        "  plt.show()\r\n",
        "\r\n",
        "plot_magnitude_against_x(10, 10, 500, 500)"
      ],
      "execution_count": null,
      "outputs": []
    },
    {
      "cell_type": "code",
      "metadata": {
        "id": "r91hjPFIuUQZ"
      },
      "source": [
        "def add_elements():\r\n",
        "  elements = []\r\n",
        "  n = 100\r\n",
        "  for i in range(n):\r\n",
        "      elements.append(( np.array([0, -((2*np.pi*R)/n)*np.sin(2*np.pi*i/n), ((2*np.pi*R)/n)*np.cos(2*np.pi*i/n)]),\r\n",
        "                        np.array([0, R*np.cos(2*np.pi*i/n), R*np.sin(2*np.pi*i/n)]) ))\r\n",
        "  return elements\r\n",
        "\r\n",
        "plot_streamlines(add_elements(), 10, 10, 20, 20)"
      ],
      "execution_count": null,
      "outputs": []
    },
    {
      "cell_type": "markdown",
      "metadata": {
        "id": "EqijqAxORZs1"
      },
      "source": [
        "## Conclusions from core task 1\r\n",
        "\r\n",
        "We first check the result agrees with that on axis. To check the magnitude, we can plot the magnitude of the magnetic field vs x:\r\n",
        "\r\n",
        "![](https://drive.google.com/uc?export=view&id=1xi1QkgzylZXzxzBXyy0nXGdRezjLkKuX)\r\n",
        "\r\n",
        "The difference between the expected field and the computed field is small and only noticeable near the peak at x = 0. This is likely due to the discrete sampling of the linspace and so we miss the effects of the rapidly changing magnetic field in this region. When increasing the number of sampling points in the linspace, we see that the absolute difference does decrease significantly, yet the shape of the difference curve remains the same.\r\n",
        "\r\n",
        "We can see from this plot that the field is essentially in the x direction on the x axis:\r\n",
        "\r\n",
        "![](https://drive.google.com/uc?export=view&id=13p94Xo1tnptdvAGDnki7Qmgm_UTqRICG)\r\n",
        "\r\n",
        " We can see a nice symmetry which we expect and the field lines pointing in the direction we expect. When we reverse the direction of the current by reversing the direction of the current elements, the field lines reverse in direction as expected.\r\n",
        "\r\n",
        "\r\n",
        "\r\n",
        "\r\n",
        "\r\n"
      ]
    },
    {
      "cell_type": "markdown",
      "metadata": {
        "id": "dClHTSLKRhsQ"
      },
      "source": [
        "# Core task 2\r\n",
        "\r\n",
        "In this task we are going to produce a pair of Helmholtz coils and test the uniformity of the field between the coils."
      ]
    },
    {
      "cell_type": "code",
      "metadata": {
        "id": "mdVDxWr9RiIs"
      },
      "source": [
        "def add_elements():\r\n",
        "  elements = []\r\n",
        "  n = 100\r\n",
        "  for i in range(n):\r\n",
        "      elements.append(( np.array([0, -((2*np.pi*R)/n)*np.sin(2*np.pi*i/n), ((2*np.pi*R)/n)*np.cos(2*np.pi*i/n)]),\r\n",
        "                        np.array([-R/2, R*np.cos(2*np.pi*i/n), R*np.sin(2*np.pi*i/n)]) ))\r\n",
        "      elements.append(( np.array([0, -((2*np.pi*R)/n)*np.sin(2*np.pi*i/n), ((2*np.pi*R)/n)*np.cos(2*np.pi*i/n)]),\r\n",
        "                        np.array([R/2, R*np.cos(2*np.pi*i/n), R*np.sin(2*np.pi*i/n)]) ))\r\n",
        "  return elements\r\n",
        "\r\n",
        "plot_streamlines(add_elements(), 2, 2, 20, 20)"
      ],
      "execution_count": null,
      "outputs": []
    },
    {
      "cell_type": "code",
      "metadata": {
        "id": "yj7bgnQeY535"
      },
      "source": [
        "def add_elements():\r\n",
        "  elements = []\r\n",
        "  n = 100\r\n",
        "  for i in range(n):\r\n",
        "      elements.append(( np.array([0, -((2*np.pi*R)/n)*np.sin(2*np.pi*i/n), ((2*np.pi*R)/n)*np.cos(2*np.pi*i/n)]),\r\n",
        "                        np.array([-R/2, R*np.cos(2*np.pi*i/n), R*np.sin(2*np.pi*i/n)]) ))\r\n",
        "      elements.append(( np.array([0, -((2*np.pi*R)/n)*np.sin(2*np.pi*i/n), ((2*np.pi*R)/n)*np.cos(2*np.pi*i/n)]),\r\n",
        "                        np.array([R/2, R*np.cos(2*np.pi*i/n), R*np.sin(2*np.pi*i/n)]) ))\r\n",
        "  return elements\r\n",
        "\r\n",
        "def max_pct_difference_in_10cm_cylinder(nx, ny):\r\n",
        "  \"\"\"\r\n",
        "  This code will compute the magnetic field within a 10cm length, 10cm diameter\r\n",
        "  cylinder centred on the origin with its axis in the x direction. Then it will\r\n",
        "  find the maximum and minimum magnetic fields within it and compare to the field\r\n",
        "  at the origin to find how uniform the field really is.\r\n",
        "  \"\"\"\r\n",
        "  x, y, Bx, By = compute_field(add_elements(), 0.05, 0.05, nx, ny)\r\n",
        "\r\n",
        "  magnitude = np.hypot(Bx, By) # Magnitude of the field\r\n",
        "  B_at_origin = magnitude[int(nx/2)][int(ny/2)]\r\n",
        "\r\n",
        "  maximum = np.max(magnitude) # Stronger field\r\n",
        "  print((maximum-B_at_origin)/B_at_origin * 100.0)\r\n",
        "\r\n",
        "  minimum = np.min(magnitude) # Weakest field\r\n",
        "  print((minimum-B_at_origin)/B_at_origin * 100.0)\r\n",
        "\r\n",
        "max_pct_difference_in_cylinder(20, 20)"
      ],
      "execution_count": null,
      "outputs": []
    },
    {
      "cell_type": "markdown",
      "metadata": {
        "id": "v0emCYiARimi"
      },
      "source": [
        "## Conclusions from core task 2\r\n",
        "\r\n",
        "We can see the uniformity of the magnetic field by plotting it around (0, 0, 0):\r\n",
        "\r\n",
        "![](https://drive.google.com/uc?export=view&id=1IN5O76YDGUovg1YVSA6oWLQkcocfttYV)\r\n",
        "\r\n",
        "Clearly, near the centre, the magnetic field lines are very straight and the same colour hence the field is approximately uniform. To quantify this further, we produce a plot between x = -0.05m and x = +0.05m (i.e. 10cm width) and y = -0.05m and y = +0.05m. This effectively gives us the cylinder projected into the x-y plane co-axial with the coils and of diameter 10cm and length 10cm. \r\n",
        "\r\n",
        "![](https://drive.google.com/uc?export=view&id=1vHWRkZsRu_1rwNwcWyLEpQWYKU7OrX9L)\r\n",
        "\r\n",
        "The value for the field strength found at the origin is 0.7155 which agrees with the formula in the exercises manual. The largest field within the region is 0.0011% stronger that that at the origin. The smallest field within the region is 0.0007% weaker than that at the origin. These deviations are very small and hence the field is very uniform. The maximum percentage deviation of the field is thus 0.0011% (from the origin)."
      ]
    },
    {
      "cell_type": "markdown",
      "metadata": {
        "id": "VWQGNW87RXkN"
      },
      "source": [
        "# Supplementary task\r\n",
        "\r\n",
        "In this task we consider the effect on N coils together in a fixed length.\r\n",
        "\r\n",
        "Firstly, we plot the magnitude of the magnetic field inside at the origin vs N. We expect this to be approximately linear because the field is equal to n (the coil density) for a solenoid with current = 1/mu_0. \r\n",
        "\r\n",
        "Secondly, we plot the difference between the computed field and the solenoid field at the origin vs N. We expect that for higher N, as the seperation of the coils reduces compared to the radius of the coils, the field will become more uniform and behave more like a solenoid. The approximation made for solenoids assumes they have a uniform field inside but this will start to apply only when the radius of the coils is much larger than their separation."
      ]
    },
    {
      "cell_type": "code",
      "metadata": {
        "id": "LaFUMr7kRn6j"
      },
      "source": [
        "D = 10*R\r\n",
        "\r\n",
        "def add_elements(N):\r\n",
        "  elements = []\r\n",
        "  n = 100\r\n",
        "  spacing = D/(N-1)\r\n",
        "\r\n",
        "  for i in range(n):\r\n",
        "    # A coil is added at multiple locations along the x-axis\r\n",
        "    for j in range(N):\r\n",
        "      elements.append(( np.array([0, -((2*np.pi*R)/n)*np.sin(2*np.pi*i/n), ((2*np.pi*R)/n)*np.cos(2*np.pi*i/n)]),\r\n",
        "                        np.array([-D/2+j*spacing, R*np.cos(2*np.pi*i/n), R*np.sin(2*np.pi*i/n)]) ))\r\n",
        "  return elements\r\n",
        "\r\n",
        "plot_streamlines(add_elements(10), D/2 + 1, D/2 + 1, 50, 50)"
      ],
      "execution_count": null,
      "outputs": []
    },
    {
      "cell_type": "code",
      "metadata": {
        "id": "3Aok4tpVl18H"
      },
      "source": [
        "D = 10*R\r\n",
        "\r\n",
        "def add_elements(N):\r\n",
        "  \"\"\"\r\n",
        "  This code adds N coils along the x-axis between +5R and -5R. This works for\r\n",
        "  greater than one coil.\r\n",
        "  \"\"\"\r\n",
        "  elements = []\r\n",
        "  n = 100\r\n",
        "  spacing = D/(N-1)\r\n",
        "\r\n",
        "  for i in range(n):\r\n",
        "    for j in range(N):\r\n",
        "      elements.append(( np.array([0, -((2*np.pi*R)/n)*np.sin(2*np.pi*i/n), ((2*np.pi*R)/n)*np.cos(2*np.pi*i/n)]),\r\n",
        "                        np.array([-D/2+j*spacing, R*np.cos(2*np.pi*i/n), R*np.sin(2*np.pi*i/n)]) ))\r\n",
        "  return elements\r\n",
        "\r\n",
        "def compare_number_of_coils(x_max, y_max, nx, ny):\r\n",
        "  \"\"\"\r\n",
        "  This is some code to see how changing the number of coils in the region of space\r\n",
        "  x = +5R to x = -5R with their axes along the x-axis affects the magnetic field\r\n",
        "  at the origin and how this compares to the magnetic field produced by a solenoid.\r\n",
        "  \"\"\"\r\n",
        "  N_max = 500\r\n",
        "  ns = np.arange(30, N_max+1)\r\n",
        "  field_strengths = np.zeros(len(ns))\r\n",
        "\r\n",
        "  for (i, N) in enumerate(ns):\r\n",
        "    x, y, Bx, By = compute_field(add_elements(N), x_max, y_max, nx, ny)\r\n",
        "    field_strengths[i] = np.hypot(Bx, By)[int(nx/2)][int(ny/2)]\r\n",
        "\r\n",
        "  fig, (ax1, ax2) = plt.subplots(2, 1, figsize=(10, 12))\r\n",
        "\r\n",
        "  # Finding the difference in field strength between that computed and that expected\r\n",
        "  # if we were observing a solenoid.\r\n",
        "  pct_solenoidal = ((field_strengths - (ns - 1)/D)/((ns - 1)/D)) * 100.0\r\n",
        "\r\n",
        "  # Difference from solenoid \r\n",
        "  ax1.plot(ns, pct_solenoidal)\r\n",
        "  ax1.set_xlabel('Number of coils')\r\n",
        "  ax1.set_ylabel('Pct. diff. between computed field strength and expected')\r\n",
        "\r\n",
        "  # The field strength vs N\r\n",
        "  ax2.plot(ns, field_strengths)\r\n",
        "  ax2.set_xlabel('Number of coils')\r\n",
        "  ax2.set_ylabel('Field strength at the origin / T')\r\n",
        "\r\n",
        "compare_number_of_coils(10, 10, 20, 20)"
      ],
      "execution_count": null,
      "outputs": []
    },
    {
      "cell_type": "markdown",
      "metadata": {
        "id": "cpTvb0T4RoLt"
      },
      "source": [
        "## Conclusions from supplementary task\r\n",
        "Firstly with 10 coils:\r\n",
        "\r\n",
        "![](https://drive.google.com/uc?export=view&id=1KGu_rFKF7Sdbk4UCLiX7wgjuFwxm4Wm6)\r\n",
        "\r\n",
        "This shows us that the magnetic field outside the coils is very weak (the dark red and black lines) yet the field inside is strong and uniform.\r\n",
        "\r\n",
        "We expect to see that the magnetic field strength is approximately proportional to the number density of coils and hence (as the length is fixed) the number of coils, N.\r\n",
        "\r\n",
        "We expect that the difference between the magnetic field strength computed and the expectation (assuming it is a solenoid, B is proportional to the density of coils) decreases as the number of coils increases. This is because the approximation that the field is uniform within the solenoid becomes more accurate. \r\n",
        "\r\n",
        "![](https://drive.google.com/uc?export=view&id=13ufdnJKRtRCBmxiO1vMBFz8mtWT8zNBJ)\r\n",
        "\r\n",
        "This is what we observe and it agrees with our expectations. For low N, the solenoid approximately is clearly very poor and should not be used. However, as we increase N, the spacing between coils reduces and we see that the computed magnetic field tends to what we expect for a solenoid. The plot of magnetic field vs. N shows approximately linear behaviour as expected."
      ]
    }
  ]
}