{
  "nbformat": 4,
  "nbformat_minor": 0,
  "metadata": {
    "colab": {
      "name": "Exercise1.ipynb",
      "provenance": [],
      "collapsed_sections": [],
      "authorship_tag": "ABX9TyO09q+IHvsDptPJp5C3hONv",
      "include_colab_link": true
    },
    "kernelspec": {
      "name": "python3",
      "display_name": "Python 3"
    }
  },
  "cells": [
    {
      "cell_type": "markdown",
      "metadata": {
        "id": "view-in-github",
        "colab_type": "text"
      },
      "source": [
        "<a href=\"https://colab.research.google.com/github/michael18781/ComputationalPhys/blob/main/Exercise1.ipynb\" target=\"_parent\"><img src=\"https://colab.research.google.com/assets/colab-badge.svg\" alt=\"Open In Colab\"/></a>"
      ]
    },
    {
      "cell_type": "markdown",
      "metadata": {
        "id": "_kMyYZHGPod5"
      },
      "source": [
        "## Exercise 1: The Driven Pendulum"
      ]
    },
    {
      "cell_type": "markdown",
      "metadata": {
        "id": "VfWC76MJ0-u1"
      },
      "source": [
        "## Preliminary code\r\n",
        "\r\n",
        "The 2nd order ODE can be written into two first order ODEs:\r\n",
        "\r\n",
        "with y_1 = d(theta)/dt and y_0 = theta\r\n",
        "\r\n",
        "We have, \r\n",
        "\r\n",
        "d(y_0)/dt = y_1\r\n",
        "\r\n",
        "d(y_1)/dt = -sin(y_0) - qy_1 + Fsin(2t/3).\r\n",
        "\r\n",
        "This initial code cell imports all required modules and sets up the functions to produce the ODE solutions."
      ]
    },
    {
      "cell_type": "code",
      "metadata": {
        "id": "xpRA9M110zWc"
      },
      "source": [
        "import scipy.integrate as integrate\r\n",
        "import numpy as np\r\n",
        "import matplotlib.pyplot as plt\r\n",
        "\r\n",
        "def pair_odes(Y, t, q, F):\r\n",
        "  return [Y[1], -np.sin(Y[0])-q*Y[1]+F*np.sin(2*t/3)]\r\n",
        "\r\n",
        "def main(theta_0, w_0, q, F):\r\n",
        "  times = np.arange(0, duration, timestep)\r\n",
        "  # Solution takes the pair of odes, initial conditions, and an array of times \r\n",
        "  solution = integrate.odeint(pair_odes, [theta_0, w_0], times, (q, F))\r\n",
        "\r\n",
        "  # Extracting individual solutions\r\n",
        "  theta = solution[:, 0]\r\n",
        "  angular_vel = solution[:, 1]\r\n",
        "  return times, theta, angular_vel\r\n",
        "\r\n",
        "def convert_angle(thetas):\r\n",
        "  # To account for 2pi errors, we make sure the angles are always within\r\n",
        "  # the range -pi to pi\r\n",
        "  for (i, angle) in enumerate(thetas):\r\n",
        "    angle = (angle/(2*np.pi) - np.floor(angle/(2*np.pi)))*2*np.pi\r\n",
        "    if angle > np.pi:\r\n",
        "      angle = angle - 2*np.pi\r\n",
        "    thetas[i] = angle\r\n",
        "  return thetas"
      ],
      "execution_count": null,
      "outputs": []
    },
    {
      "cell_type": "markdown",
      "metadata": {
        "id": "kyP04iNIPriL"
      },
      "source": [
        "# Core task 1\r\n",
        "\r\n",
        "We aim to solve these ODEs and plot suitable graphs to determine how accurately they agree with what we expect and energy conservation. We will also determine how the period of oscillation depends on the amplitude. Throughout this task there is no damping nor forcing."
      ]
    },
    {
      "cell_type": "code",
      "metadata": {
        "id": "lRDu0yT1vjze"
      },
      "source": [
        "duration = 60.0\r\n",
        "timestep = 0.01\r\n",
        "\r\n",
        "\"\"\"\r\n",
        "This code will plot an undamped, unforced solution of the ODEs to check it agrees with \r\n",
        "the theory.\r\n",
        "\"\"\"\r\n",
        "\r\n",
        "def plot_solution(theta_0, w_0):\r\n",
        "  times, theta, angular_vel = main(theta_0, w_0, 0, 0)\r\n",
        "\r\n",
        "  # Plotting the values of theta and the angular velocity over time  \r\n",
        "  plt.plot(times, theta, label='Theta')\r\n",
        "  plt.plot(times, angular_vel, label='Angular velocity')\r\n",
        "\r\n",
        "  plt.legend()\r\n",
        "  plt.ylabel('Angular displacement / velocity')\r\n",
        "  plt.xlabel('Time / s')\r\n",
        "\r\n",
        "plot_solution(np.pi/2, 0)"
      ],
      "execution_count": null,
      "outputs": []
    },
    {
      "cell_type": "code",
      "metadata": {
        "id": "KrHeAFNCvleK"
      },
      "source": [
        "duration = 60000.0\r\n",
        "timestep = 0.01\r\n",
        "\r\n",
        "\"\"\" \r\n",
        "This is some code to plot the energy of a non-damped and unforced system over\r\n",
        "time to check that it is approximately conserved.\r\n",
        "\"\"\"\r\n",
        "\r\n",
        "def plot_energy(theta_0, w_0):\r\n",
        "  times, theta, angular_vel = main(theta_0, w_0, 0, 0)\r\n",
        "\r\n",
        "  # Plotting the scaled energy over time\r\n",
        "  energy = 1000*(angular_vel**2 + 2*(1-np.cos(theta)))\r\n",
        "  plt.plot(times, energy)\r\n",
        "\r\n",
        "  plt.ylabel('Energy, up to a constant factor')\r\n",
        "  plt.xlabel('Time / s')\r\n",
        "\r\n",
        "plot_energy(1.56, 0)"
      ],
      "execution_count": null,
      "outputs": []
    },
    {
      "cell_type": "code",
      "metadata": {
        "id": "-BQ9WY5Vvt4F"
      },
      "source": [
        "duration = 100.0\r\n",
        "timestep = 0.01\r\n",
        "\r\n",
        "\"\"\" \r\n",
        "This is some code to find the period vs amplitude for no damping and no friction. \r\n",
        "It will produce a plot too.\r\n",
        "\"\"\"\r\n",
        "\r\n",
        "def find_periods():\r\n",
        "  # Various values of the starting position\r\n",
        "  theta_0 = np.linspace(0, np.pi-0.01, 100)\r\n",
        "\r\n",
        "  periods = np.zeros(len(theta_0))\r\n",
        "  \r\n",
        "  for (i, starting_value) in enumerate(theta_0):\r\n",
        "    # Solution for each starting position, no damping, no forcing\r\n",
        "    times, theta, angular_vel = main(starting_value, 0, 0, 0)\r\n",
        "\r\n",
        "    crossing_axis = np.zeros(len(angular_vel))\r\n",
        "    for (j, vel) in enumerate(angular_vel):\r\n",
        "      # Checking if crossed time axis\r\n",
        "      if np.sign(angular_vel[j-1]) == 1.0 and np.sign(vel) == -1.0:\r\n",
        "        crossing_axis[j] = 1.0\r\n",
        "\r\n",
        "    # Making sure we count the exact number of crossings\r\n",
        "    crossing_axis = np.trim_zeros(crossing_axis) \r\n",
        "    num_times_crossed = np.sum(crossing_axis)\r\n",
        "    # The num_times_crossed - 1 means we do not overcount the number of periods\r\n",
        "    length_between_crossings = 0 if num_times_crossed==0 else len(crossing_axis)/(num_times_crossed-1)\r\n",
        "\r\n",
        "    periods[i] = length_between_crossings*timestep\r\n",
        "    \r\n",
        "\r\n",
        "  plt.plot(theta_0, periods)\r\n",
        "  plt.ylabel(\"Period / s\")\r\n",
        "  plt.xlabel(\"Starting value of the angle (radians)\")\r\n",
        "\r\n",
        "find_periods()"
      ],
      "execution_count": null,
      "outputs": []
    },
    {
      "cell_type": "markdown",
      "metadata": {
        "id": "Wyn5Ak2ow9cW"
      },
      "source": [
        "## Conclusions for core task 1\r\n",
        "\r\n",
        "The solution for the undamped and undriven oscillator with an initial displacement theta=0.01 and zero angular velocity is:\r\n",
        "\r\n",
        "![](https://drive.google.com/uc?export=view&id=1xvl7d6wNHi02Ycxw8K-iQ7GJDz16jwDN)\r\n",
        "\r\n",
        "This agrees with what we expect (no changes in amplitude of oscillation, and velocity lagging behind by 1/4 of a cycle = pi/2) so we can continue to experiment now. \r\n",
        "\r\n",
        "The energy over time in this case is plotted over about 9500 oscillations) and stays constant to within 1.4%.\r\n",
        "\r\n",
        "![](https://drive.google.com/uc?export=view&id=1Jgtf9VvREg-ihWdVnCzCO7KRrIdbuiFq)\r\n",
        "\r\n",
        "Using a method of counting the time between several periods and averaging them, we deduce the period for various starting positions:\r\n",
        "\r\n",
        "![](https://drive.google.com/uc?export=view&id=1yr2Txuee9U-90lnGUL90rESMml44do0w)\r\n",
        "\r\n",
        "This agrees with expectation because as theta tends to zero, the period tends to 2*pi - consistent with the small angle approximation. The period for starting value pi/2 is about 7.43s - a noticeable difference from 2pi."
      ]
    },
    {
      "cell_type": "markdown",
      "metadata": {
        "id": "FktGHIrw9af-"
      },
      "source": [
        "# Supplementary task 1\r\n",
        "\r\n",
        "In this task we want to investigate how slightly different initial conditions can affect the long term behaviour of our solutions - the sensitivity to initial conditions."
      ]
    },
    {
      "cell_type": "code",
      "metadata": {
        "id": "JNtluf2-9iUI"
      },
      "source": [
        "duration = 100.0\r\n",
        "timestep = 0.01\r\n",
        "\r\n",
        "\"\"\"\r\n",
        "This code simply sets two solutions off at t = 0 with a very slight difference\r\n",
        "in initial displacement. It plots the displacement vs time so we can see if \r\n",
        "the resulting behaviour is strongly affected by the initial displacement.\r\n",
        "\"\"\"\r\n",
        "\r\n",
        "def testing_sensitivity():\r\n",
        "  # We check for two values of theta_0 = 0.2, 0.20001\r\n",
        "  time1, theta1, angular_vel1 = main(0.2, 0, 0, 1.2)\r\n",
        "  time2, theta2, angular_vel2 = main(0.20001, 0, 0, 1.2)\r\n",
        "\r\n",
        "  plt.plot(time1, theta1, label='0.2')\r\n",
        "  plt.plot(time2, theta2, label='0.20001')\r\n",
        "  plt.xlabel('Time / s')\r\n",
        "  plt.ylabel('Angular displacement (radians)')\r\n",
        "\r\n",
        "testing_sensitivity()"
      ],
      "execution_count": null,
      "outputs": []
    },
    {
      "cell_type": "markdown",
      "metadata": {
        "id": "Fb0mLv8xxjqm"
      },
      "source": [
        "## Conclusions for supplementary task 1\r\n",
        "\r\n",
        "For F=1.2, we investigate whether the solutions diverge for a small difference in the starting angle. We notice that the solutions stay roughly the same until a certain point where the current state of each system is different enough to send the systems down different paths and they diverge.\r\n",
        "\r\n",
        "![](https://drive.google.com/uc?export=view&id=1-IIbWMsq6oSHjaDhCvdOJ6Z1pBdgjRym)"
      ]
    },
    {
      "cell_type": "markdown",
      "metadata": {
        "id": "PfZkGfiNJEtW"
      },
      "source": [
        "# Core task 2\r\n",
        "\r\n",
        "In this task we want to be investigating damping and driving forces. So we in turn switch on and vary the damping, and then the driving force and see the behaviour. \r\n"
      ]
    },
    {
      "cell_type": "code",
      "metadata": {
        "id": "GlQGhovHzuG-"
      },
      "source": [
        "timestep = 0.01\r\n",
        "duration = 100.0\r\n",
        "\r\n",
        "\"\"\"\r\n",
        "Code to show two plots for a few damping levels. The first plot shows displacement vs time\r\n",
        "and the second plot shows angular velocity vs time\r\n",
        "\"\"\"\r\n",
        "\r\n",
        "def damping_test(theta_0, w_0):\r\n",
        "  q = [1, 5, 10]\r\n",
        "  f_displacement, ax = plt.subplots()\r\n",
        "  f_velocity, ax1 = plt.subplots()\r\n",
        "  for Q in q:\r\n",
        "    times, theta, vel = main(theta_0, w_0, Q, 0.0)\r\n",
        "    ax.plot(times, theta, label=f'q={Q}')\r\n",
        "    ax1.plot(times, vel, label=f'q={Q}')\r\n",
        "\r\n",
        "  ax.set_xlabel('Time / s')\r\n",
        "  ax1.set_xlabel('Time / s')\r\n",
        "  ax.set_ylabel('Angular displacement / radians')\r\n",
        "  ax1.set_ylabel('Angular velocity / radians per s')\r\n",
        "  ax.legend()\r\n",
        "  ax1.legend()\r\n",
        "\r\n",
        "damping_test(0.01, 0)"
      ],
      "execution_count": null,
      "outputs": []
    },
    {
      "cell_type": "code",
      "metadata": {
        "id": "WC7I9TgVzS63"
      },
      "source": [
        "timestep = 0.01\r\n",
        "duration = 100.0\r\n",
        "\r\n",
        "\"\"\"\r\n",
        "Code to show the effect of a driving force on the pendulum. We have a fixed value of q = 0.5.\r\n",
        "The F value is varied and plotted for each.\r\n",
        "\"\"\"\r\n",
        "\r\n",
        "def driving(theta_0, w_0):\r\n",
        "  F_values = [0.5, 1.2, 1.44, 1.465]\r\n",
        "\r\n",
        "  for F in F_values:\r\n",
        "    times, theta, vel = main(theta_0, w_0, 0.5, F)\r\n",
        "    theta = convert_angle(theta)\r\n",
        "    f, ax = plt.subplots()\r\n",
        "    ax.plot(times, theta)\r\n",
        "    ax.set_title(f'q=0.5, F={F}')\r\n",
        "    ax.set_ylabel('Angular velocity / radians per s')\r\n",
        "    ax.set_xlabel('Time / s')\r\n",
        "\r\n",
        "driving(0.01, 0)"
      ],
      "execution_count": null,
      "outputs": []
    },
    {
      "cell_type": "markdown",
      "metadata": {
        "id": "TzayJOMcyBeT"
      },
      "source": [
        "## Conclusions for core task 2\r\n",
        "\r\n",
        "Initially we just turn on some damping and check we see what is expected:\r\n",
        "\r\n",
        "![](https://drive.google.com/uc?export=view&id=15A2hNMychyomqWB4Oqq-Wz8VClYt1pM0)\r\n",
        "\r\n",
        "![](https://drive.google.com/uc?export=view&id=1WGn7a0OCcNlPTsK2iWCJRLhX1ch0RowA)\r\n",
        "\r\n",
        "Then we check the plots for multiple values of F and q = 0.5. We see some awkward behaviour near plus or minus pi because of how the pendulum \"goes over the top\". I wrote the function convert_angle to make sure the angle stays between plus or minus pi - this is invoked after solving the ODE and corrects every value of the angle.\r\n",
        "\r\n",
        "![](https://drive.google.com/uc?export=view&id=12UbnwcoOEJphWmI5dZ-50CHo-rysy725)\r\n",
        "\r\n",
        "We can see that for light forcing, there is a transient solution but then we settle on the periodic forcing term.\r\n",
        "\r\n",
        "For heavier damping we start to get some strange behaviour - some was periodic. For F = 1.2 we do not get periodic behaviour (maybe some chaos here?) but for the two higher values we can see periodic motion. For F=1.44 we appear to have period roughly equal to the forcing terms period and for F=1.465 we have a much longer period."
      ]
    },
    {
      "cell_type": "markdown",
      "metadata": {
        "id": "-GhOUjPhbF_W"
      },
      "source": [
        "# Supplementary task 2\r\n",
        "\r\n",
        "In this task we plot angular velocity against angular displacement - this is the phase space. In phase space we can see for chaos by checking if there are points which intersect with the phase space path multiple times.\r\n",
        "\r\n",
        "\r\n",
        "\r\n"
      ]
    },
    {
      "cell_type": "code",
      "metadata": {
        "id": "HjzG49DczeAH"
      },
      "source": [
        "duration = 150.0\r\n",
        "timestep = 0.01\r\n",
        "\r\n",
        "\"\"\"\r\n",
        "This code will simply plot a phase space diagram of the displacement vs velocity.\r\n",
        "This allows us to see how the path in phase space behaves, leading to chaos.\r\n",
        "\"\"\"\r\n",
        "\r\n",
        "def plot_angle_vs_speed(theta_0, w_0):\r\n",
        "  # A choice of parameters for each plot\r\n",
        "  params = [(0.5, 0), (0.5, 0.5), (0.9, 3)]\r\n",
        "\r\n",
        "  for pair in params:\r\n",
        "    times, theta0, vel0 = main(theta_0, w_0, pair[0], pair[1])\r\n",
        "    theta0 = convert_angle(theta0)\r\n",
        "    f, ax = plt.subplots()\r\n",
        "    ax.plot(theta0, vel0)\r\n",
        "    ax.set_title(f'q={pair[0]}, F={pair[1]}')\r\n",
        "    ax.set_ylabel('Angular velocity / radians per s')\r\n",
        "    ax.set_xlabel('Angular displacement / radians')\r\n",
        "\r\n",
        "plot_angle_vs_speed(0.01, 0)"
      ],
      "execution_count": null,
      "outputs": []
    },
    {
      "cell_type": "markdown",
      "metadata": {
        "id": "aN9wAEP4yeto"
      },
      "source": [
        "## Conclusions for supplementary task 2\r\n",
        "\r\n",
        "We check the plots by having no forcing term and a damping term - we expect a spiral motion:\r\n",
        "\r\n",
        "![](https://drive.google.com/uc?export=view&id=1duzyH4ui7I_JvWhSav4AEEBPgwiY_O41)\r\n",
        "\r\n",
        "Then we add in the forcing term and notice some normal behaviour (q = 0.5, F = 0.5) - i.e. we see the transient and then the periodic motion\r\n",
        "\r\n",
        "![](https://drive.google.com/uc?export=view&id=1ymajXYfjyClJ8ex8-mKZVntCwHOHD92C)\r\n",
        "\r\n",
        "Then for larger forcing values we see, for example (q = 0.9, F = 3)\r\n",
        "\r\n",
        "![](https://drive.google.com/uc?export=view&id=1uK2H6mHfcmu6804Rq3VRsPN-YM5K2QoA)"
      ]
    }
  ]
}